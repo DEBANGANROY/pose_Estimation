{
  "cells": [
    {
      "cell_type": "markdown",
      "metadata": {
        "id": "view-in-github",
        "colab_type": "text"
      },
      "source": [
        "<a href=\"https://colab.research.google.com/github/DEBANGANROY/pose_estimation/blob/main/final_year_project.ipynb\" target=\"_parent\"><img src=\"https://colab.research.google.com/assets/colab-badge.svg\" alt=\"Open In Colab\"/></a>"
      ]
    },
    {
      "cell_type": "markdown",
      "metadata": {
        "id": "0jhLqLUeJNzF"
      },
      "source": [
        "# INSTALLING DEPENDENCIES"
      ]
    },
    {
      "cell_type": "code",
      "execution_count": null,
      "metadata": {
        "scrolled": true,
        "id": "LOfOWZPTJNzJ",
        "outputId": "03261fd7-879c-4ef7-9c43-ca7b7e0b2ac9"
      },
      "outputs": [
        {
          "name": "stdout",
          "output_type": "stream",
          "text": [
            "Requirement already satisfied: mediapipe in c:\\users\\hp\\anaconda3\\lib\\site-packages (0.8.10)\n",
            "Requirement already satisfied: opencv-python in c:\\users\\hp\\anaconda3\\lib\\site-packages (4.5.5.64)\n",
            "Requirement already satisfied: absl-py in c:\\users\\hp\\anaconda3\\lib\\site-packages (from mediapipe) (1.0.0)\n",
            "Requirement already satisfied: protobuf>=3.11.4 in c:\\users\\hp\\anaconda3\\lib\\site-packages (from mediapipe) (3.19.1)\n",
            "Requirement already satisfied: numpy in c:\\users\\hp\\anaconda3\\lib\\site-packages (from mediapipe) (1.21.5)\n",
            "Requirement already satisfied: matplotlib in c:\\users\\hp\\anaconda3\\lib\\site-packages (from mediapipe) (3.5.2)\n",
            "Requirement already satisfied: attrs>=19.1.0 in c:\\users\\hp\\anaconda3\\lib\\site-packages (from mediapipe) (21.4.0)\n",
            "Requirement already satisfied: opencv-contrib-python in c:\\users\\hp\\anaconda3\\lib\\site-packages (from mediapipe) (4.5.5.64)\n",
            "Requirement already satisfied: six in c:\\users\\hp\\appdata\\roaming\\python\\python39\\site-packages (from absl-py->mediapipe) (1.15.0)\n",
            "Requirement already satisfied: kiwisolver>=1.0.1 in c:\\users\\hp\\anaconda3\\lib\\site-packages (from matplotlib->mediapipe) (1.3.2)\n",
            "Requirement already satisfied: packaging>=20.0 in c:\\users\\hp\\anaconda3\\lib\\site-packages (from matplotlib->mediapipe) (21.3)\n",
            "Requirement already satisfied: cycler>=0.10 in c:\\users\\hp\\anaconda3\\lib\\site-packages (from matplotlib->mediapipe) (0.11.0)\n",
            "Requirement already satisfied: python-dateutil>=2.7 in c:\\users\\hp\\anaconda3\\lib\\site-packages (from matplotlib->mediapipe) (2.8.2)\n",
            "Requirement already satisfied: fonttools>=4.22.0 in c:\\users\\hp\\anaconda3\\lib\\site-packages (from matplotlib->mediapipe) (4.25.0)\n",
            "Requirement already satisfied: pillow>=6.2.0 in c:\\users\\hp\\anaconda3\\lib\\site-packages (from matplotlib->mediapipe) (9.0.1)\n",
            "Requirement already satisfied: pyparsing>=2.2.1 in c:\\users\\hp\\anaconda3\\lib\\site-packages (from matplotlib->mediapipe) (3.0.4)\n"
          ]
        }
      ],
      "source": [
        "!pip install mediapipe opencv-python "
      ]
    },
    {
      "cell_type": "markdown",
      "metadata": {
        "id": "4F9r9h7tJNzL"
      },
      "source": [
        "# IMPORTING DEPENDENCIES"
      ]
    },
    {
      "cell_type": "code",
      "execution_count": null,
      "metadata": {
        "id": "iqE5mcgsJNzL"
      },
      "outputs": [],
      "source": [
        "import cv2\n",
        "import mediapipe as mp\n",
        "import numpy as np\n",
        "mp_drawing = mp.solutions.drawing_utils\n",
        "mp_pose = mp.solutions.pose"
      ]
    },
    {
      "cell_type": "markdown",
      "metadata": {
        "id": "PRM0kPo_JNzM"
      },
      "source": [
        "# Calculating angles"
      ]
    },
    {
      "cell_type": "code",
      "execution_count": null,
      "metadata": {
        "id": "jyuXIMUgJNzM"
      },
      "outputs": [],
      "source": [
        "def calculate_angle(a,b,c):\n",
        "    a = np.array(a) # First\n",
        "    b = np.array(b) # Mid\n",
        "    c = np.array(c) # End\n",
        "    \n",
        "    radians = np.arctan2(c[1]-b[1], c[0]-b[0]) - np.arctan2(a[1]-b[1], a[0]-b[0])\n",
        "    angle = np.abs(radians*180.0/np.pi)\n",
        "    \n",
        "    if angle >180.0:\n",
        "        angle = 360-angle\n",
        "        \n",
        "    return angle "
      ]
    },
    {
      "cell_type": "markdown",
      "metadata": {
        "id": "j32ZpfaVJNzM"
      },
      "source": [
        "# Curls"
      ]
    },
    {
      "cell_type": "code",
      "execution_count": null,
      "metadata": {
        "id": "Mng057tBJNzN",
        "outputId": "33f51c83-cbcf-4a81-ded6-c71279179d65"
      },
      "outputs": [
        {
          "name": "stdout",
          "output_type": "stream",
          "text": [
            "8\n"
          ]
        }
      ],
      "source": [
        "cap = cv2.VideoCapture(0)\n",
        "\n",
        "\n",
        "counter = 0 \n",
        "stage = None\n",
        "\n",
        "\n",
        "with mp_pose.Pose(min_detection_confidence=0.5, min_tracking_confidence=0.5) as pose:\n",
        "    while cap.isOpened():\n",
        "        ret, frame = cap.read()\n",
        "        \n",
        "     \n",
        "        image = cv2.cvtColor(frame, cv2.COLOR_BGR2RGB)\n",
        "        image.flags.writeable = False\n",
        "      \n",
        "     \n",
        "        results = pose.process(image)\n",
        "    \n",
        "       \n",
        "        image.flags.writeable = True\n",
        "        image = cv2.cvtColor(image, cv2.COLOR_RGB2BGR)\n",
        "        \n",
        "     \n",
        "        try:\n",
        "            landmarks = results.pose_landmarks.landmark\n",
        "        \n",
        "       \n",
        "            shoulder = [landmarks[mp_pose.PoseLandmark.LEFT_SHOULDER.value].x,landmarks[mp_pose.PoseLandmark.LEFT_SHOULDER.value].y]\n",
        "            elbow = [landmarks[mp_pose.PoseLandmark.LEFT_ELBOW.value].x,landmarks[mp_pose.PoseLandmark.LEFT_ELBOW.value].y]\n",
        "            wrist = [landmarks[mp_pose.PoseLandmark.LEFT_WRIST.value].x,landmarks[mp_pose.PoseLandmark.LEFT_WRIST.value].y]\n",
        "            \n",
        "          \n",
        "            angle = round(calculate_angle(shoulder, elbow, wrist), 2)\n",
        "            \n",
        "      \n",
        "            cv2.putText(image, str(angle), \n",
        "                           tuple(np.multiply(elbow, [640, 480]).astype(int)), \n",
        "                           cv2.FONT_HERSHEY_SIMPLEX, 0.5, (255, 255, 255), 2, cv2.LINE_AA\n",
        "                                )\n",
        "            \n",
        "      \n",
        "            if angle > 150:\n",
        "                stage = \"down\"\n",
        "            if angle < 30 and stage =='down':\n",
        "                stage=\"up\"\n",
        "                counter +=1\n",
        "                #print(counter)\n",
        "                       \n",
        "        except:\n",
        "            pass\n",
        "\n",
        "        \n",
        "        cv2.rectangle(image, (0,0), (230,73), (245,117,16), -1)\n",
        "        \n",
        "     \n",
        "        cv2.putText(image, 'REPS', (15,12), \n",
        "                    cv2.FONT_HERSHEY_SIMPLEX, 0.5, (0,0,0), 1, cv2.LINE_AA)\n",
        "        cv2.putText(image, str(counter), \n",
        "                    (10,60), \n",
        "                    cv2.FONT_HERSHEY_SIMPLEX, 1.5, (255,255,255), 2, cv2.LINE_AA)\n",
        "        \n",
        "     \n",
        "        cv2.putText(image, 'STAGE', (65,12), \n",
        "                    cv2.FONT_HERSHEY_SIMPLEX, 0.5, (0,0,0), 1, cv2.LINE_AA)\n",
        "        cv2.putText(image, stage, \n",
        "                    (100,60), \n",
        "                    cv2.FONT_HERSHEY_SIMPLEX, 1.5, (255,255,255), 2, cv2.LINE_AA)\n",
        "       \n",
        "        \n",
        "      \n",
        "        mp_drawing.draw_landmarks(image, results.pose_landmarks, mp_pose.POSE_CONNECTIONS,\n",
        "                                mp_drawing.DrawingSpec(color=(245,117,66), thickness=2, circle_radius=2), \n",
        "                                mp_drawing.DrawingSpec(color=(245,66,230), thickness=2, circle_radius=2) \n",
        "                                 )               \n",
        "        \n",
        "        cv2.imshow('Mediapipe Feed', image)\n",
        "\n",
        "        if cv2.waitKey(10) & 0xFF == ord('q'):\n",
        "            break\n",
        "\n",
        "    cap.release()\n",
        "    cv2.destroyAllWindows()\n",
        "    print(counter)"
      ]
    },
    {
      "cell_type": "markdown",
      "metadata": {
        "id": "XXsz23PoJNzO"
      },
      "source": [
        "# Squats"
      ]
    },
    {
      "cell_type": "code",
      "execution_count": null,
      "metadata": {
        "id": "dNqwH4euJNzO",
        "outputId": "0eb7561a-2248-4e20-daff-a08aa0f48671"
      },
      "outputs": [
        {
          "ename": "SyntaxError",
          "evalue": "(unicode error) 'unicodeescape' codec can't decode bytes in position 2-3: truncated \\UXXXXXXXX escape (909427175.py, line 1)",
          "output_type": "error",
          "traceback": [
            "\u001b[1;36m  Input \u001b[1;32mIn [23]\u001b[1;36m\u001b[0m\n\u001b[1;33m    cap = cv2.VideoCapture('C:\\Users\\Hp\\Downloads\\personal\\sqats.cms')\u001b[0m\n\u001b[1;37m                                                                     ^\u001b[0m\n\u001b[1;31mSyntaxError\u001b[0m\u001b[1;31m:\u001b[0m (unicode error) 'unicodeescape' codec can't decode bytes in position 2-3: truncated \\UXXXXXXXX escape\n"
          ]
        }
      ],
      "source": [
        "cap = cv2.VideoCapture(0)\n",
        "\n",
        "\n",
        "counter = 0 \n",
        "stage = None\n",
        "\n",
        "\n",
        "with mp_pose.Pose(min_detection_confidence=0.5, min_tracking_confidence=0.5) as pose:\n",
        "    while cap.isOpened():\n",
        "        ret, frame = cap.read()\n",
        "        \n",
        "     \n",
        "        image = cv2.cvtColor(frame, cv2.COLOR_BGR2RGB)\n",
        "        image.flags.writeable = False\n",
        "      \n",
        "     \n",
        "        results = pose.process(image)\n",
        "    \n",
        "       \n",
        "        image.flags.writeable = True\n",
        "        image = cv2.cvtColor(image, cv2.COLOR_RGB2BGR)\n",
        "        \n",
        "     \n",
        "        try:\n",
        "            landmarks = results.pose_landmarks.landmark\n",
        "            \n",
        "       \n",
        "            hip = [landmarks[mp_pose.PoseLandmark.LEFT_HIP.value].x,landmarks[mp_pose.PoseLandmark.LEFT_HIP.value].y]\n",
        "            knee = [landmarks[mp_pose.PoseLandmark.LEFT_KNEE.value].x,landmarks[mp_pose.PoseLandmark.LEFT_KNEE.value].y]\n",
        "            heel = [landmarks[mp_pose.PoseLandmark.LEFT_HEEL.value].x,landmarks[mp_pose.PoseLandmark.LEFT_HEEL.value].y]\n",
        "            \n",
        "          \n",
        "            angle = round(calculate_angle(hip, knee, heel), 2)\n",
        "            \n",
        "      \n",
        "            cv2.putText(image, str(angle), \n",
        "                           tuple(np.multiply(elbow, [640, 480]).astype(int)), \n",
        "                           cv2.FONT_HERSHEY_SIMPLEX, 0.5, (255, 255, 255), 2, cv2.LINE_AA\n",
        "                                )\n",
        "            \n",
        "      \n",
        "            if angle < 120:\n",
        "                stage = \"down\"\n",
        "            if angle > 160 and stage =='down':\n",
        "                stage=\"up\"\n",
        "                counter +=1\n",
        "                \n",
        "                       \n",
        "        except:\n",
        "            pass\n",
        "\n",
        "        \n",
        "        cv2.rectangle(image, (0,0), (225,73), (245,117,16), -1)\n",
        "        \n",
        "     \n",
        "        cv2.putText(image, 'SIT_UPS', (15,12), \n",
        "                    cv2.FONT_HERSHEY_SIMPLEX, 0.5, (0,0,0), 1, cv2.LINE_AA)\n",
        "        cv2.putText(image, str(counter), \n",
        "                    (10,60), \n",
        "                    cv2.FONT_HERSHEY_SIMPLEX, 1.5, (255,255,255), 2, cv2.LINE_AA)\n",
        "        \n",
        "     \n",
        "        cv2.putText(image, 'STAGE', (65,12), \n",
        "                    cv2.FONT_HERSHEY_SIMPLEX, 0.5, (0,0,0), 1, cv2.LINE_AA)\n",
        "        cv2.putText(image, stage, \n",
        "                    (100,60), \n",
        "                    cv2.FONT_HERSHEY_SIMPLEX, 1.5, (255,255,255), 2, cv2.LINE_AA)\n",
        "        \n",
        "        \n",
        "      \n",
        "        mp_drawing.draw_landmarks(image, results.pose_landmarks, mp_pose.POSE_CONNECTIONS,\n",
        "                                mp_drawing.DrawingSpec(color=(245,117,66), thickness=2, circle_radius=2), \n",
        "                                mp_drawing.DrawingSpec(color=(245,66,230), thickness=2, circle_radius=2) \n",
        "                                 )               \n",
        "        \n",
        "        cv2.imshow('Mediapipe Feed', image)\n",
        "\n",
        "        if cv2.waitKey(10) & 0xFF == ord('q'):\n",
        "            break\n",
        "\n",
        "    cap.release()\n",
        "    cv2.destroyAllWindows()\n",
        "    print(counter)"
      ]
    },
    {
      "cell_type": "code",
      "execution_count": null,
      "metadata": {
        "id": "Nj7y2p5bJNzP"
      },
      "outputs": [],
      "source": [
        ""
      ]
    }
  ],
  "metadata": {
    "kernelspec": {
      "display_name": "Python 3 (ipykernel)",
      "language": "python",
      "name": "python3"
    },
    "language_info": {
      "codemirror_mode": {
        "name": "ipython",
        "version": 3
      },
      "file_extension": ".py",
      "mimetype": "text/x-python",
      "name": "python",
      "nbconvert_exporter": "python",
      "pygments_lexer": "ipython3",
      "version": "3.9.12"
    },
    "colab": {
      "name": "final_year_project.ipynb",
      "provenance": [],
      "include_colab_link": true
    }
  },
  "nbformat": 4,
  "nbformat_minor": 0
}